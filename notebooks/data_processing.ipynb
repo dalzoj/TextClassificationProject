{
 "cells": [
  {
   "cell_type": "markdown",
   "metadata": {},
   "source": [
    "# Data Processing"
   ]
  },
  {
   "cell_type": "code",
   "execution_count": 1,
   "metadata": {},
   "outputs": [
    {
     "name": "stdout",
     "output_type": "stream",
     "text": [
      "c:\\Users\\dalzoj\\Documents\\Freelancer\\TextClassificationProject\n"
     ]
    }
   ],
   "source": [
    "import sys\n",
    "import os\n",
    "\n",
    "project_root = os.path.abspath(os.path.join(os.getcwd(), \"..\"))\n",
    "if project_root not in sys.path:\n",
    "    sys.path.append(project_root)"
   ]
  },
  {
   "cell_type": "code",
   "execution_count": 2,
   "metadata": {},
   "outputs": [],
   "source": [
    "import src.utils.helper_functions as helpers\n",
    "import src.utils.general_path as general_path\n",
    "\n",
    "\n",
    "import re\n",
    "import pandas as pd\n",
    "from unidecode import unidecode\n",
    "from nltk.corpus import stopwords\n",
    "from spellchecker import SpellChecker\n",
    "from sklearn.preprocessing import LabelEncoder\n",
    "from sklearn.model_selection import train_test_split"
   ]
  },
  {
   "cell_type": "code",
   "execution_count": 3,
   "metadata": {
    "colab": {
     "base_uri": "https://localhost:8080/",
     "height": 206
    },
    "executionInfo": {
     "elapsed": 2256,
     "status": "ok",
     "timestamp": 1720213456845,
     "user": {
      "displayName": "Diego Lizarazo Jimenez",
      "userId": "15298860470240790145"
     },
     "user_tz": 300
    },
    "id": "HOFMtYVsm6jQ",
    "outputId": "cfc9e46e-615c-4a0b-ef6d-808ad2cadfb2"
   },
   "outputs": [
    {
     "data": {
      "text/html": [
       "<div>\n",
       "<style scoped>\n",
       "    .dataframe tbody tr th:only-of-type {\n",
       "        vertical-align: middle;\n",
       "    }\n",
       "\n",
       "    .dataframe tbody tr th {\n",
       "        vertical-align: top;\n",
       "    }\n",
       "\n",
       "    .dataframe thead th {\n",
       "        text-align: right;\n",
       "    }\n",
       "</style>\n",
       "<table border=\"1\" class=\"dataframe\">\n",
       "  <thead>\n",
       "    <tr style=\"text-align: right;\">\n",
       "      <th></th>\n",
       "      <th>label</th>\n",
       "      <th>text</th>\n",
       "    </tr>\n",
       "  </thead>\n",
       "  <tbody>\n",
       "    <tr>\n",
       "      <th>0</th>\n",
       "      <td>SOL</td>\n",
       "      <td>SOLICITUD DE INTERVENCION CUMPLIMIENTO DE ORDE...</td>\n",
       "    </tr>\n",
       "    <tr>\n",
       "      <th>1</th>\n",
       "      <td>SOL</td>\n",
       "      <td>DERECHO DE PETICION  - LA INSEMINACION ARTIFIC...</td>\n",
       "    </tr>\n",
       "    <tr>\n",
       "      <th>2</th>\n",
       "      <td>ASE</td>\n",
       "      <td>MANIFIESTA EL SOLICITANTE, QUE ES VICTIMA DEL ...</td>\n",
       "    </tr>\n",
       "    <tr>\n",
       "      <th>3</th>\n",
       "      <td>ASE</td>\n",
       "      <td>MANIFIESTA EL SOLICITANTE, QUE ES VICTIMA DEL ...</td>\n",
       "    </tr>\n",
       "    <tr>\n",
       "      <th>4</th>\n",
       "      <td>SOL</td>\n",
       "      <td>REPARTO ND 197/2022 - CASOS BARRERAS EMSSANAR ...</td>\n",
       "    </tr>\n",
       "  </tbody>\n",
       "</table>\n",
       "</div>"
      ],
      "text/plain": [
       "  label                                               text\n",
       "0   SOL  SOLICITUD DE INTERVENCION CUMPLIMIENTO DE ORDE...\n",
       "1   SOL  DERECHO DE PETICION  - LA INSEMINACION ARTIFIC...\n",
       "2   ASE  MANIFIESTA EL SOLICITANTE, QUE ES VICTIMA DEL ...\n",
       "3   ASE  MANIFIESTA EL SOLICITANTE, QUE ES VICTIMA DEL ...\n",
       "4   SOL  REPARTO ND 197/2022 - CASOS BARRERAS EMSSANAR ..."
      ]
     },
     "execution_count": 3,
     "metadata": {},
     "output_type": "execute_result"
    }
   ],
   "source": [
    "raw_analytic_df = pd.read_csv('../'+general_path.RAW_DATA_PATH + 'analytic_data.csv')\n",
    "raw_analytic_df.head()"
   ]
  },
  {
   "cell_type": "code",
   "execution_count": 4,
   "metadata": {
    "colab": {
     "base_uri": "https://localhost:8080/",
     "height": 241
    },
    "executionInfo": {
     "elapsed": 2227,
     "status": "ok",
     "timestamp": 1720213459069,
     "user": {
      "displayName": "Diego Lizarazo Jimenez",
      "userId": "15298860470240790145"
     },
     "user_tz": 300
    },
    "id": "O2rpnsD2THzv",
    "outputId": "eda57119-64be-40d8-e16f-ba0b7f4e3c07"
   },
   "outputs": [
    {
     "name": "stderr",
     "output_type": "stream",
     "text": [
      "c:\\Users\\dalzoj\\Documents\\Freelancer\\TextClassificationProject\\env\\Lib\\site-packages\\openpyxl\\worksheet\\_reader.py:329: UserWarning: Data Validation extension is not supported and will be removed\n",
      "  warn(msg)\n"
     ]
    },
    {
     "data": {
      "text/html": [
       "<div>\n",
       "<style scoped>\n",
       "    .dataframe tbody tr th:only-of-type {\n",
       "        vertical-align: middle;\n",
       "    }\n",
       "\n",
       "    .dataframe tbody tr th {\n",
       "        vertical-align: top;\n",
       "    }\n",
       "\n",
       "    .dataframe thead th {\n",
       "        text-align: right;\n",
       "    }\n",
       "</style>\n",
       "<table border=\"1\" class=\"dataframe\">\n",
       "  <thead>\n",
       "    <tr style=\"text-align: right;\">\n",
       "      <th></th>\n",
       "      <th>Columna1</th>\n",
       "      <th>id_peticion\\t</th>\n",
       "      <th>hechos_sample</th>\n",
       "      <th>Clasificación</th>\n",
       "    </tr>\n",
       "  </thead>\n",
       "  <tbody>\n",
       "    <tr>\n",
       "      <th>0</th>\n",
       "      <td>0</td>\n",
       "      <td>2024036171</td>\n",
       "      <td>oeg-0314 notificaciondepacientesrepresadosenre...</td>\n",
       "      <td>NaN</td>\n",
       "    </tr>\n",
       "    <tr>\n",
       "      <th>1</th>\n",
       "      <td>1</td>\n",
       "      <td>2024039629</td>\n",
       "      <td>manifiesta que es cotizante de colpensiones y ...</td>\n",
       "      <td>NaN</td>\n",
       "    </tr>\n",
       "    <tr>\n",
       "      <th>2</th>\n",
       "      <td>2</td>\n",
       "      <td>2024026274</td>\n",
       "      <td>solicito respetuosamente en calidad de subsidi...</td>\n",
       "      <td>NaN</td>\n",
       "    </tr>\n",
       "    <tr>\n",
       "      <th>3</th>\n",
       "      <td>3</td>\n",
       "      <td>2024046117</td>\n",
       "      <td>habito en zona rural de una vereda denomidada ...</td>\n",
       "      <td>NaN</td>\n",
       "    </tr>\n",
       "    <tr>\n",
       "      <th>4</th>\n",
       "      <td>4</td>\n",
       "      <td>2024011185</td>\n",
       "      <td>patrullero adscritos a soledad de nombre braya...</td>\n",
       "      <td>NaN</td>\n",
       "    </tr>\n",
       "  </tbody>\n",
       "</table>\n",
       "</div>"
      ],
      "text/plain": [
       "   Columna1  id_peticion\\t                                      hechos_sample  \\\n",
       "0         0     2024036171  oeg-0314 notificaciondepacientesrepresadosenre...   \n",
       "1         1     2024039629  manifiesta que es cotizante de colpensiones y ...   \n",
       "2         2     2024026274  solicito respetuosamente en calidad de subsidi...   \n",
       "3         3     2024046117  habito en zona rural de una vereda denomidada ...   \n",
       "4         4     2024011185  patrullero adscritos a soledad de nombre braya...   \n",
       "\n",
       "  Clasificación  \n",
       "0           NaN  \n",
       "1           NaN  \n",
       "2           NaN  \n",
       "3           NaN  \n",
       "4           NaN  "
      ]
     },
     "execution_count": 4,
     "metadata": {},
     "output_type": "execute_result"
    }
   ],
   "source": [
    "raw_correct_df = pd.read_excel('../'+general_path.RAW_DATA_PATH + 'correct_register.xlsx')\n",
    "raw_correct_df.head()"
   ]
  },
  {
   "cell_type": "code",
   "execution_count": 5,
   "metadata": {
    "colab": {
     "base_uri": "https://localhost:8080/",
     "height": 206
    },
    "executionInfo": {
     "elapsed": 347,
     "status": "ok",
     "timestamp": 1720213459411,
     "user": {
      "displayName": "Diego Lizarazo Jimenez",
      "userId": "15298860470240790145"
     },
     "user_tz": 300
    },
    "id": "HjQYpqi5P8gK",
    "outputId": "5a65955e-114f-463c-f01d-719496a3d1e0"
   },
   "outputs": [
    {
     "name": "stdout",
     "output_type": "stream",
     "text": [
      "Elementos existentes: 3000\n",
      "Elementos restantes: 1458\n"
     ]
    },
    {
     "data": {
      "text/html": [
       "<div>\n",
       "<style scoped>\n",
       "    .dataframe tbody tr th:only-of-type {\n",
       "        vertical-align: middle;\n",
       "    }\n",
       "\n",
       "    .dataframe tbody tr th {\n",
       "        vertical-align: top;\n",
       "    }\n",
       "\n",
       "    .dataframe thead th {\n",
       "        text-align: right;\n",
       "    }\n",
       "</style>\n",
       "<table border=\"1\" class=\"dataframe\">\n",
       "  <thead>\n",
       "    <tr style=\"text-align: right;\">\n",
       "      <th></th>\n",
       "      <th>label</th>\n",
       "      <th>text</th>\n",
       "    </tr>\n",
       "  </thead>\n",
       "  <tbody>\n",
       "    <tr>\n",
       "      <th>0</th>\n",
       "      <td>QJA</td>\n",
       "      <td>presenta historia clinica de  cehani fechada e...</td>\n",
       "    </tr>\n",
       "    <tr>\n",
       "      <th>1</th>\n",
       "      <td>QJA</td>\n",
       "      <td>--usuaria cosmitet ltda refiere que, la doctor...</td>\n",
       "    </tr>\n",
       "    <tr>\n",
       "      <th>2</th>\n",
       "      <td>QJA</td>\n",
       "      <td>usuario afiliado a la nueva eps regimen contri...</td>\n",
       "    </tr>\n",
       "    <tr>\n",
       "      <th>3</th>\n",
       "      <td>QJA</td>\n",
       "      <td>el pasado 22 de enero radique e informe antes ...</td>\n",
       "    </tr>\n",
       "    <tr>\n",
       "      <th>4</th>\n",
       "      <td>QJA</td>\n",
       "      <td>denuncia barrera administrativa eapb salud tot...</td>\n",
       "    </tr>\n",
       "  </tbody>\n",
       "</table>\n",
       "</div>"
      ],
      "text/plain": [
       "  label                                               text\n",
       "0   QJA  presenta historia clinica de  cehani fechada e...\n",
       "1   QJA  --usuaria cosmitet ltda refiere que, la doctor...\n",
       "2   QJA  usuario afiliado a la nueva eps regimen contri...\n",
       "3   QJA  el pasado 22 de enero radique e informe antes ...\n",
       "4   QJA  denuncia barrera administrativa eapb salud tot..."
      ]
     },
     "execution_count": 5,
     "metadata": {},
     "output_type": "execute_result"
    }
   ],
   "source": [
    "correctly_processed_df = raw_correct_df.rename(\n",
    "    columns = {\n",
    "        'hechos_sample': 'text',\n",
    "        'Clasificación': 'label'\n",
    "        }\n",
    "    )\n",
    "correctly_processed_df = correctly_processed_df[['label','text']]\n",
    "correctly_processed_df = correctly_processed_df.replace(\n",
    "    to_replace = {\n",
    "        'QUEJA': 'QJA',\n",
    "        'SOLICITUD': 'SOL',\n",
    "        'ASESORIA': 'ASE'\n",
    "        }\n",
    "    )\n",
    "correctly_processed_df = helpers.df_preprocess(correctly_processed_df, True)\n",
    "correctly_processed_df.head()"
   ]
  },
  {
   "cell_type": "code",
   "execution_count": 6,
   "metadata": {
    "colab": {
     "base_uri": "https://localhost:8080/"
    },
    "executionInfo": {
     "elapsed": 8,
     "status": "ok",
     "timestamp": 1720213459412,
     "user": {
      "displayName": "Diego Lizarazo Jimenez",
      "userId": "15298860470240790145"
     },
     "user_tz": 300
    },
    "id": "AJToNmd8q6DQ",
    "outputId": "17ccb363-113f-4bfb-cf7e-f340238b7290"
   },
   "outputs": [
    {
     "name": "stdout",
     "output_type": "stream",
     "text": [
      "Elementos existentes: 37877\n",
      "Elementos restantes: 28858\n"
     ]
    },
    {
     "data": {
      "text/html": [
       "<div>\n",
       "<style scoped>\n",
       "    .dataframe tbody tr th:only-of-type {\n",
       "        vertical-align: middle;\n",
       "    }\n",
       "\n",
       "    .dataframe tbody tr th {\n",
       "        vertical-align: top;\n",
       "    }\n",
       "\n",
       "    .dataframe thead th {\n",
       "        text-align: right;\n",
       "    }\n",
       "</style>\n",
       "<table border=\"1\" class=\"dataframe\">\n",
       "  <thead>\n",
       "    <tr style=\"text-align: right;\">\n",
       "      <th></th>\n",
       "      <th>label</th>\n",
       "      <th>text</th>\n",
       "    </tr>\n",
       "  </thead>\n",
       "  <tbody>\n",
       "    <tr>\n",
       "      <th>0</th>\n",
       "      <td>SOL</td>\n",
       "      <td>SOLICITUD DE INTERVENCION CUMPLIMIENTO DE ORDE...</td>\n",
       "    </tr>\n",
       "    <tr>\n",
       "      <th>1</th>\n",
       "      <td>SOL</td>\n",
       "      <td>DERECHO DE PETICION  - LA INSEMINACION ARTIFIC...</td>\n",
       "    </tr>\n",
       "    <tr>\n",
       "      <th>2</th>\n",
       "      <td>ASE</td>\n",
       "      <td>MANIFIESTA EL SOLICITANTE, QUE ES VICTIMA DEL ...</td>\n",
       "    </tr>\n",
       "    <tr>\n",
       "      <th>3</th>\n",
       "      <td>ASE</td>\n",
       "      <td>MANIFIESTA EL SOLICITANTE, QUE ES VICTIMA DEL ...</td>\n",
       "    </tr>\n",
       "    <tr>\n",
       "      <th>4</th>\n",
       "      <td>SOL</td>\n",
       "      <td>REPARTO ND 197/2022 - CASOS BARRERAS EMSSANAR ...</td>\n",
       "    </tr>\n",
       "  </tbody>\n",
       "</table>\n",
       "</div>"
      ],
      "text/plain": [
       "  label                                               text\n",
       "0   SOL  SOLICITUD DE INTERVENCION CUMPLIMIENTO DE ORDE...\n",
       "1   SOL  DERECHO DE PETICION  - LA INSEMINACION ARTIFIC...\n",
       "2   ASE  MANIFIESTA EL SOLICITANTE, QUE ES VICTIMA DEL ...\n",
       "3   ASE  MANIFIESTA EL SOLICITANTE, QUE ES VICTIMA DEL ...\n",
       "4   SOL  REPARTO ND 197/2022 - CASOS BARRERAS EMSSANAR ..."
      ]
     },
     "execution_count": 6,
     "metadata": {},
     "output_type": "execute_result"
    }
   ],
   "source": [
    "processed_analytical_df = helpers.df_preprocess(raw_analytic_df, True)\n",
    "processed_analytical_df.head()"
   ]
  },
  {
   "cell_type": "code",
   "execution_count": 7,
   "metadata": {
    "colab": {
     "base_uri": "https://localhost:8080/",
     "height": 241
    },
    "executionInfo": {
     "elapsed": 515,
     "status": "ok",
     "timestamp": 1720213459920,
     "user": {
      "displayName": "Diego Lizarazo Jimenez",
      "userId": "15298860470240790145"
     },
     "user_tz": 300
    },
    "id": "u22DKE4KU8ud",
    "outputId": "0f81bdd5-3a35-447d-c82c-518dda4a8e61"
   },
   "outputs": [
    {
     "name": "stdout",
     "output_type": "stream",
     "text": [
      "Elementos existentes: 30316\n",
      "Elementos restantes: 30316\n"
     ]
    },
    {
     "data": {
      "text/html": [
       "<div>\n",
       "<style scoped>\n",
       "    .dataframe tbody tr th:only-of-type {\n",
       "        vertical-align: middle;\n",
       "    }\n",
       "\n",
       "    .dataframe tbody tr th {\n",
       "        vertical-align: top;\n",
       "    }\n",
       "\n",
       "    .dataframe thead th {\n",
       "        text-align: right;\n",
       "    }\n",
       "</style>\n",
       "<table border=\"1\" class=\"dataframe\">\n",
       "  <thead>\n",
       "    <tr style=\"text-align: right;\">\n",
       "      <th></th>\n",
       "      <th>label</th>\n",
       "      <th>text</th>\n",
       "    </tr>\n",
       "  </thead>\n",
       "  <tbody>\n",
       "    <tr>\n",
       "      <th>0</th>\n",
       "      <td>QJA</td>\n",
       "      <td>presenta historia clinica de  cehani fechada e...</td>\n",
       "    </tr>\n",
       "    <tr>\n",
       "      <th>1</th>\n",
       "      <td>QJA</td>\n",
       "      <td>--usuaria cosmitet ltda refiere que, la doctor...</td>\n",
       "    </tr>\n",
       "    <tr>\n",
       "      <th>2</th>\n",
       "      <td>QJA</td>\n",
       "      <td>usuario afiliado a la nueva eps regimen contri...</td>\n",
       "    </tr>\n",
       "    <tr>\n",
       "      <th>3</th>\n",
       "      <td>QJA</td>\n",
       "      <td>el pasado 22 de enero radique e informe antes ...</td>\n",
       "    </tr>\n",
       "    <tr>\n",
       "      <th>4</th>\n",
       "      <td>QJA</td>\n",
       "      <td>denuncia barrera administrativa eapb salud tot...</td>\n",
       "    </tr>\n",
       "  </tbody>\n",
       "</table>\n",
       "</div>"
      ],
      "text/plain": [
       "  label                                               text\n",
       "0   QJA  presenta historia clinica de  cehani fechada e...\n",
       "1   QJA  --usuaria cosmitet ltda refiere que, la doctor...\n",
       "2   QJA  usuario afiliado a la nueva eps regimen contri...\n",
       "3   QJA  el pasado 22 de enero radique e informe antes ...\n",
       "4   QJA  denuncia barrera administrativa eapb salud tot..."
      ]
     },
     "execution_count": 7,
     "metadata": {},
     "output_type": "execute_result"
    }
   ],
   "source": [
    "preprocess_df = pd.concat(\n",
    "    [correctly_processed_df, processed_analytical_df]\n",
    "    )\n",
    "preprocess_df = helpers.df_preprocess(preprocess_df, True)\n",
    "preprocess_df.head()"
   ]
  },
  {
   "cell_type": "code",
   "execution_count": 8,
   "metadata": {
    "executionInfo": {
     "elapsed": 7,
     "status": "ok",
     "timestamp": 1720213459920,
     "user": {
      "displayName": "Diego Lizarazo Jimenez",
      "userId": "15298860470240790145"
     },
     "user_tz": 300
    },
    "id": "zUYeJzzinpmI"
   },
   "outputs": [],
   "source": [
    "aditional_stopwords_list = general_path.EXTENDS_DATA_PATH + 'words_to_ignore.txt'\n",
    "stop_words = stopwords.words(\"spanish\")\n",
    "stop_words.extend(aditional_stopwords_list)"
   ]
  },
  {
   "cell_type": "code",
   "execution_count": 9,
   "metadata": {
    "executionInfo": {
     "elapsed": 617,
     "status": "ok",
     "timestamp": 1720213460531,
     "user": {
      "displayName": "Diego Lizarazo Jimenez",
      "userId": "15298860470240790145"
     },
     "user_tz": 300
    },
    "id": "kFehFgC8n16Z"
   },
   "outputs": [],
   "source": [
    "# Expresión regular para texto\n",
    "letters_pat = re.compile(r'[^a-z ]')\n",
    "# Expresión regular para múltiples espacios\n",
    "spaces_pat = re.compile(r' +')\n",
    "# Expresión regular para puntos y comas\n",
    "points_pat = re.compile(r'[,.-]')\n",
    "# Crear el corrector ortográfico en español\n",
    "spell = SpellChecker(language='es')"
   ]
  },
  {
   "cell_type": "code",
   "execution_count": 10,
   "metadata": {},
   "outputs": [],
   "source": [
    "def text_processing(text):\n",
    "    processed_text = unidecode(text.lower()) # Tildes\n",
    "    processed_text = re.sub(letters_pat, \" \", processed_text) # Eliminamos todo lo que no es letras y espacios\n",
    "    processed_text = re.sub(points_pat, \" \", processed_text) # Eliminamos puntuaciones\n",
    "    processed_text = re.sub(spaces_pat, \" \", processed_text) # Eliminamos mas de un espacio seguido\n",
    "    processed_text = processed_text.strip() # Eliminamos los espacios al inicio y al final\n",
    "    tokens = processed_text.split()\n",
    "    tokens = [token for token in tokens if token not in stop_words]\n",
    "    return \" \".join(tokens)"
   ]
  },
  {
   "cell_type": "code",
   "execution_count": 11,
   "metadata": {},
   "outputs": [],
   "source": [
    "def text_spellchecker_processing(text):\n",
    "    processed_text = unidecode(text.lower()) # Tildes\n",
    "    processed_text = re.sub(letters_pat, \" \", processed_text) # Eliminamos todo lo que no es letras y espacios\n",
    "    processed_text = re.sub(points_pat, \" \", processed_text) # Eliminamos puntuaciones\n",
    "    processed_text = re.sub(spaces_pat, \" \", processed_text) # Eliminamos mas de un espacio seguido\n",
    "    processed_text = processed_text.strip() # Eliminamos los espacios al inicio y al final\n",
    "    tokens = processed_text.split()\n",
    "    tokens = [token for token in tokens if token not in stop_words]\n",
    "    tokens = [spell.correction(token) if spell.correction(token) else token for token in tokens]\n",
    "    preprocessing_text = unidecode(\" \".join(tokens))\n",
    "    return \" \".join(tokens)"
   ]
  },
  {
   "cell_type": "code",
   "execution_count": 12,
   "metadata": {
    "executionInfo": {
     "elapsed": 13276,
     "status": "ok",
     "timestamp": 1720213473805,
     "user": {
      "displayName": "Diego Lizarazo Jimenez",
      "userId": "15298860470240790145"
     },
     "user_tz": 300
    },
    "id": "AzULkXupuCDb"
   },
   "outputs": [
    {
     "name": "stdout",
     "output_type": "stream",
     "text": [
      "Elementos existentes: 30316\n",
      "Elementos restantes: 28817\n"
     ]
    },
    {
     "data": {
      "text/html": [
       "<div>\n",
       "<style scoped>\n",
       "    .dataframe tbody tr th:only-of-type {\n",
       "        vertical-align: middle;\n",
       "    }\n",
       "\n",
       "    .dataframe tbody tr th {\n",
       "        vertical-align: top;\n",
       "    }\n",
       "\n",
       "    .dataframe thead th {\n",
       "        text-align: right;\n",
       "    }\n",
       "</style>\n",
       "<table border=\"1\" class=\"dataframe\">\n",
       "  <thead>\n",
       "    <tr style=\"text-align: right;\">\n",
       "      <th></th>\n",
       "      <th>label</th>\n",
       "      <th>text</th>\n",
       "    </tr>\n",
       "  </thead>\n",
       "  <tbody>\n",
       "    <tr>\n",
       "      <th>0</th>\n",
       "      <td>QJA</td>\n",
       "      <td>presenta historia clinica cehani fechada indic...</td>\n",
       "    </tr>\n",
       "    <tr>\n",
       "      <th>1</th>\n",
       "      <td>QJA</td>\n",
       "      <td>usuaria cosmitet ltda refiere doctora aithza c...</td>\n",
       "    </tr>\n",
       "    <tr>\n",
       "      <th>2</th>\n",
       "      <td>QJA</td>\n",
       "      <td>usuario afiliado nueva eps regimen contributiv...</td>\n",
       "    </tr>\n",
       "    <tr>\n",
       "      <th>3</th>\n",
       "      <td>QJA</td>\n",
       "      <td>pasado enero radique informe respectivos entes...</td>\n",
       "    </tr>\n",
       "    <tr>\n",
       "      <th>4</th>\n",
       "      <td>QJA</td>\n",
       "      <td>denuncia barrera administrativa eapb salud tot...</td>\n",
       "    </tr>\n",
       "  </tbody>\n",
       "</table>\n",
       "</div>"
      ],
      "text/plain": [
       "  label                                               text\n",
       "0   QJA  presenta historia clinica cehani fechada indic...\n",
       "1   QJA  usuaria cosmitet ltda refiere doctora aithza c...\n",
       "2   QJA  usuario afiliado nueva eps regimen contributiv...\n",
       "3   QJA  pasado enero radique informe respectivos entes...\n",
       "4   QJA  denuncia barrera administrativa eapb salud tot..."
      ]
     },
     "execution_count": 12,
     "metadata": {},
     "output_type": "execute_result"
    }
   ],
   "source": [
    "preprocess_df['text'] = preprocess_df['text'].apply(text_processing)\n",
    "preprocess_df = helpers.df_preprocess(preprocess_df, True)\n",
    "preprocess_df.head()"
   ]
  },
  {
   "cell_type": "code",
   "execution_count": 13,
   "metadata": {},
   "outputs": [
    {
     "name": "stdout",
     "output_type": "stream",
     "text": [
      "<class 'pandas.core.frame.DataFrame'>\n",
      "RangeIndex: 28817 entries, 0 to 28816\n",
      "Data columns (total 2 columns):\n",
      " #   Column  Non-Null Count  Dtype \n",
      "---  ------  --------------  ----- \n",
      " 0   label   28817 non-null  object\n",
      " 1   text    28817 non-null  object\n",
      "dtypes: object(2)\n",
      "memory usage: 450.4+ KB\n"
     ]
    }
   ],
   "source": [
    "preprocess_df.info()"
   ]
  },
  {
   "cell_type": "code",
   "execution_count": 14,
   "metadata": {
    "colab": {
     "base_uri": "https://localhost:8080/",
     "height": 206
    },
    "executionInfo": {
     "elapsed": 11,
     "status": "ok",
     "timestamp": 1720213473805,
     "user": {
      "displayName": "Diego Lizarazo Jimenez",
      "userId": "15298860470240790145"
     },
     "user_tz": 300
    },
    "id": "P4PxVXwDutm_",
    "outputId": "ca46417d-1862-4919-f3af-1182ac3e6671"
   },
   "outputs": [],
   "source": [
    "preprocess_df.to_csv(\n",
    "    '../'+general_path.PROCESSED_DATA_PATH + 'data.csv',\n",
    "    index = False\n",
    "    )"
   ]
  },
  {
   "cell_type": "code",
   "execution_count": 15,
   "metadata": {},
   "outputs": [
    {
     "name": "stdout",
     "output_type": "stream",
     "text": [
      "<class 'pandas.core.frame.DataFrame'>\n",
      "RangeIndex: 28817 entries, 0 to 28816\n",
      "Data columns (total 2 columns):\n",
      " #   Column  Non-Null Count  Dtype \n",
      "---  ------  --------------  ----- \n",
      " 0   label   28817 non-null  object\n",
      " 1   text    28817 non-null  object\n",
      "dtypes: object(2)\n",
      "memory usage: 450.4+ KB\n"
     ]
    }
   ],
   "source": [
    "preprocess_df.info()"
   ]
  },
  {
   "cell_type": "code",
   "execution_count": 16,
   "metadata": {},
   "outputs": [
    {
     "name": "stdout",
     "output_type": "stream",
     "text": [
      "Objeto cargado desde: ../src/objects/\n"
     ]
    }
   ],
   "source": [
    "le = helpers.get_object('../'+general_path.OBJECTS_PATH,'label_encoder.pkl')\n",
    "if le == None:\n",
    "    le = LabelEncoder().fit(preprocess_df['label'])\n",
    "    helpers.save_object('../'+general_path.OBJECTS_PATH, 'label_encoder.pkl', le)"
   ]
  },
  {
   "cell_type": "code",
   "execution_count": 17,
   "metadata": {},
   "outputs": [],
   "source": [
    "# Transformación de las categorías\n",
    "y_encoder = le.fit_transform(preprocess_df['label'])\n",
    "preprocess_df['label'] = y_encoder"
   ]
  },
  {
   "cell_type": "code",
   "execution_count": 18,
   "metadata": {},
   "outputs": [],
   "source": [
    "preprocess_df.to_csv(\n",
    "    '../'+general_path.PROCESSED_DATA_PATH + 'processed_data.csv',\n",
    "    index = False\n",
    "    )"
   ]
  },
  {
   "cell_type": "code",
   "execution_count": null,
   "metadata": {},
   "outputs": [],
   "source": []
  }
 ],
 "metadata": {
  "colab": {
   "authorship_tag": "ABX9TyPrqtSzp8pG+5tyzClig40h",
   "provenance": []
  },
  "kernelspec": {
   "display_name": "Python 3 (ipykernel)",
   "language": "python",
   "name": "python3"
  },
  "language_info": {
   "codemirror_mode": {
    "name": "ipython",
    "version": 3
   },
   "file_extension": ".py",
   "mimetype": "text/x-python",
   "name": "python",
   "nbconvert_exporter": "python",
   "pygments_lexer": "ipython3",
   "version": "3.12.2"
  }
 },
 "nbformat": 4,
 "nbformat_minor": 4
}
