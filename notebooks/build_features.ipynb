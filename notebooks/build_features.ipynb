{
 "cells": [
  {
   "cell_type": "code",
   "execution_count": 1,
   "metadata": {},
   "outputs": [
    {
     "name": "stdout",
     "output_type": "stream",
     "text": [
      "c:\\Users\\dalzoj\\Documents\\Freelancer\\TextClassificationProject\n"
     ]
    }
   ],
   "source": [
    "import sys\n",
    "import os\n",
    "\n",
    "project_root = os.path.abspath(os.path.join(os.getcwd(), \"..\"))\n",
    "\n",
    "if project_root not in sys.path:\n",
    "    sys.path.append(project_root)"
   ]
  },
  {
   "cell_type": "code",
   "execution_count": 2,
   "metadata": {},
   "outputs": [],
   "source": [
    "import src.utils.helper_functions as helpers\n",
    "import src.utils.general_path as general_path\n",
    "\n",
    "import pandas as pd\n",
    "from sklearn.feature_extraction.text import TfidfVectorizer\n",
    "from sklearn.feature_extraction.text import CountVectorizer"
   ]
  },
  {
   "cell_type": "code",
   "execution_count": 3,
   "metadata": {},
   "outputs": [
    {
     "name": "stdout",
     "output_type": "stream",
     "text": [
      "(23053, 1)\n"
     ]
    }
   ],
   "source": [
    "data = pd.read_csv(general_path.PROCESSED_DATA_PATH + 'processed_data.csv')\n",
    "print(data.shape)"
   ]
  },
  {
   "cell_type": "code",
   "execution_count": 4,
   "metadata": {},
   "outputs": [
    {
     "name": "stdout",
     "output_type": "stream",
     "text": [
      "Elementos existentes: 23053\n",
      "Elementos restantes: 23050\n"
     ]
    }
   ],
   "source": [
    "data = helpers.df_preprocess(data, False)"
   ]
  },
  {
   "cell_type": "markdown",
   "metadata": {
    "id": "Wv90u7apmuLz"
   },
   "source": [
    "# Representación TF-IDF"
   ]
  },
  {
   "cell_type": "code",
   "execution_count": 5,
   "metadata": {
    "colab": {
     "base_uri": "https://localhost:8080/"
    },
    "executionInfo": {
     "elapsed": 2470,
     "status": "ok",
     "timestamp": 1720213291974,
     "user": {
      "displayName": "Diego Lizarazo Jimenez",
      "userId": "15298860470240790145"
     },
     "user_tz": 300
    },
    "id": "VVZGMgjSiuo3",
    "outputId": "32321f3c-f9bf-4097-ea60-57432015ae26"
   },
   "outputs": [
    {
     "name": "stdout",
     "output_type": "stream",
     "text": [
      "Objeto no existente en: ../src/objects/\n",
      "Nuevo objeto guardado en: ../src/objects/tfidf_vectorizer.pkl\n"
     ]
    }
   ],
   "source": [
    "tfidf_vectorizer = helpers.get_object('../'+ general_path.OBJECTS_PATH, 'tfidf_vectorizer.pkl')\n",
    "if tfidf_vectorizer == None:\n",
    "  tfidf_vectorizer = TfidfVectorizer().fit(data['text'])\n",
    "  helpers.save_object('../'+ general_path.OBJECTS_PATH, 'tfidf_vectorizer.pkl', tfidf_vectorizer)"
   ]
  },
  {
   "cell_type": "markdown",
   "metadata": {
    "id": "caYeEH5BpZmC"
   },
   "source": [
    "# Representación BoW"
   ]
  },
  {
   "cell_type": "code",
   "execution_count": 6,
   "metadata": {
    "colab": {
     "base_uri": "https://localhost:8080/"
    },
    "executionInfo": {
     "elapsed": 1112,
     "status": "ok",
     "timestamp": 1720213293080,
     "user": {
      "displayName": "Diego Lizarazo Jimenez",
      "userId": "15298860470240790145"
     },
     "user_tz": 300
    },
    "id": "u3yQ69hSf-vo",
    "outputId": "5b17f4ab-1d44-432f-8c6a-9535ba4d4db6"
   },
   "outputs": [
    {
     "name": "stdout",
     "output_type": "stream",
     "text": [
      "Objeto no existente en: ../src/objects/\n",
      "Nuevo objeto guardado en: ../src/objects/count_vectorizer.pkl\n"
     ]
    }
   ],
   "source": [
    "bow = helpers.get_object('../'+ general_path.OBJECTS_PATH,'count_vectorizer.pkl')\n",
    "if bow == None:\n",
    "  bow = CountVectorizer().fit(data['text'])\n",
    "  helpers.save_object('../'+ general_path.OBJECTS_PATH, 'count_vectorizer.pkl', bow)"
   ]
  }
 ],
 "metadata": {
  "colab": {
   "authorship_tag": "ABX9TyNp0Mxkt8et8R5mQD6X94Og",
   "provenance": []
  },
  "kernelspec": {
   "display_name": "Python 3 (ipykernel)",
   "language": "python",
   "name": "python3"
  },
  "language_info": {
   "codemirror_mode": {
    "name": "ipython",
    "version": 3
   },
   "file_extension": ".py",
   "mimetype": "text/x-python",
   "name": "python",
   "nbconvert_exporter": "python",
   "pygments_lexer": "ipython3",
   "version": "3.12.2"
  }
 },
 "nbformat": 4,
 "nbformat_minor": 4
}
