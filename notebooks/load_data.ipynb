{
 "cells": [
  {
   "cell_type": "markdown",
   "metadata": {},
   "source": [
    "# Dependencias Necesarias"
   ]
  },
  {
   "cell_type": "code",
   "execution_count": 1,
   "metadata": {
    "id": "93kaKyoMlhjP"
   },
   "outputs": [],
   "source": [
    "import pandas as pd\n",
    "import general_path\n",
    "\n",
    "from pyspark import SparkContext, SparkConf\n",
    "from pyspark.sql import SparkSession"
   ]
  },
  {
   "cell_type": "markdown",
   "metadata": {
    "id": "L_Eb8sw7j1SL"
   },
   "source": [
    "# Carga de Datos Pyspark"
   ]
  },
  {
   "cell_type": "code",
   "execution_count": 7,
   "metadata": {
    "id": "3xz2v1a1jLNx"
   },
   "outputs": [],
   "source": [
    "sc = SparkContext.getOrCreate(SparkConf().setMaster('local[*]'))\n",
    "spark = (SparkSession.builder.getOrCreate())\n",
    "balanced_dfs = spark.read.option('multiLine', 'true').option('quotechar', '\"').option('inferSchema', 'true').csv(general_path.RAW_SPARK_DATA_PATH+'*.csv', sep = '\\u0001').toPandas()"
   ]
  },
  {
   "cell_type": "code",
   "execution_count": null,
   "metadata": {},
   "outputs": [],
   "source": [
    "balanced_dfs.head()"
   ]
  },
  {
   "cell_type": "code",
   "execution_count": null,
   "metadata": {},
   "outputs": [],
   "source": [
    "balanced_dfs.info()"
   ]
  },
  {
   "cell_type": "code",
   "execution_count": null,
   "metadata": {
    "colab": {
     "base_uri": "https://localhost:8080/"
    },
    "executionInfo": {
     "elapsed": 5,
     "status": "ok",
     "timestamp": 1720205096640,
     "user": {
      "displayName": "Diego Lizarazo Jimenez",
      "userId": "15298860470240790145"
     },
     "user_tz": 300
    },
    "id": "NLjAXPobkraR",
    "outputId": "d76b475c-0092-4cab-e7c9-3f8b68cd8614"
   },
   "outputs": [
    {
     "name": "stdout",
     "output_type": "stream",
     "text": [
      "  label                                               text\n",
      "0   SOL  SOLICITUD DE INTERVENCION CUMPLIMIENTO DE ORDE...\n",
      "1   SOL  DERECHO DE PETICION  - LA INSEMINACION ARTIFIC...\n",
      "2   ASE  MANIFIESTA EL SOLICITANTE, QUE ES VICTIMA DEL ...\n",
      "3   ASE  MANIFIESTA EL SOLICITANTE, QUE ES VICTIMA DEL ...\n",
      "4   SOL  REPARTO ND 197/2022 - CASOS BARRERAS EMSSANAR ...\n"
     ]
    }
   ],
   "source": [
    "select_data = balanced_dfs[['_c2','_c3']]\n",
    "select_data = select_data.rename(\n",
    "    columns = {\n",
    "        '_c2':'label',\n",
    "        '_c3':'text'}\n",
    "    )\n",
    "print(select_data.head())"
   ]
  },
  {
   "cell_type": "code",
   "execution_count": null,
   "metadata": {
    "id": "9SwCkqWglUp0"
   },
   "outputs": [],
   "source": [
    "select_data.to_csv(\n",
    "    general_path.RAW_DATA_PATH + 'analytic_data.csv',\n",
    "    index = False\n",
    ")"
   ]
  }
 ],
 "metadata": {
  "colab": {
   "authorship_tag": "ABX9TyOISiPRD0x4lTgcmIDkO/2p",
   "provenance": []
  },
  "kernelspec": {
   "display_name": "Python 3 (ipykernel)",
   "language": "python",
   "name": "python3"
  },
  "language_info": {
   "codemirror_mode": {
    "name": "ipython",
    "version": 3
   },
   "file_extension": ".py",
   "mimetype": "text/x-python",
   "name": "python",
   "nbconvert_exporter": "python",
   "pygments_lexer": "ipython3",
   "version": "3.12.2"
  }
 },
 "nbformat": 4,
 "nbformat_minor": 4
}
