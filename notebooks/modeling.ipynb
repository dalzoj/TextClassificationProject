{
 "cells": [
  {
   "cell_type": "code",
   "execution_count": 1,
   "metadata": {},
   "outputs": [],
   "source": [
    "import sys\n",
    "import os\n",
    "\n",
    "project_root = os.path.abspath(os.path.join(os.getcwd(), \"..\"))\n",
    "if project_root not in sys.path:\n",
    "    sys.path.append(project_root)"
   ]
  },
  {
   "cell_type": "code",
   "execution_count": 2,
   "metadata": {},
   "outputs": [],
   "source": [
    "import src.utils.helper_functions as helpers\n",
    "import src.utils.general_path as general_path\n",
    "\n",
    "import pandas as pd\n",
    "import numpy as np\n",
    "import pprint as pp\n",
    "import joblib\n",
    "from collections import defaultdict\n",
    "from sklearn.model_selection import train_test_split"
   ]
  },
  {
   "cell_type": "markdown",
   "metadata": {},
   "source": [
    "# Carga de Datos"
   ]
  },
  {
   "cell_type": "code",
   "execution_count": 3,
   "metadata": {},
   "outputs": [
    {
     "data": {
      "text/html": [
       "<div>\n",
       "<style scoped>\n",
       "    .dataframe tbody tr th:only-of-type {\n",
       "        vertical-align: middle;\n",
       "    }\n",
       "\n",
       "    .dataframe tbody tr th {\n",
       "        vertical-align: top;\n",
       "    }\n",
       "\n",
       "    .dataframe thead th {\n",
       "        text-align: right;\n",
       "    }\n",
       "</style>\n",
       "<table border=\"1\" class=\"dataframe\">\n",
       "  <thead>\n",
       "    <tr style=\"text-align: right;\">\n",
       "      <th></th>\n",
       "      <th>label</th>\n",
       "      <th>text</th>\n",
       "    </tr>\n",
       "  </thead>\n",
       "  <tbody>\n",
       "    <tr>\n",
       "      <th>0</th>\n",
       "      <td>1</td>\n",
       "      <td>presenta historia clinica cehani fechada indic...</td>\n",
       "    </tr>\n",
       "    <tr>\n",
       "      <th>1</th>\n",
       "      <td>1</td>\n",
       "      <td>usuaria cosmitet ltda refiere doctora aithza c...</td>\n",
       "    </tr>\n",
       "    <tr>\n",
       "      <th>2</th>\n",
       "      <td>1</td>\n",
       "      <td>usuario afiliado nueva eps regimen contributiv...</td>\n",
       "    </tr>\n",
       "    <tr>\n",
       "      <th>3</th>\n",
       "      <td>1</td>\n",
       "      <td>pasado enero radique informe respectivos entes...</td>\n",
       "    </tr>\n",
       "    <tr>\n",
       "      <th>4</th>\n",
       "      <td>1</td>\n",
       "      <td>denuncia barrera administrativa eapb salud tot...</td>\n",
       "    </tr>\n",
       "  </tbody>\n",
       "</table>\n",
       "</div>"
      ],
      "text/plain": [
       "   label                                               text\n",
       "0      1  presenta historia clinica cehani fechada indic...\n",
       "1      1  usuaria cosmitet ltda refiere doctora aithza c...\n",
       "2      1  usuario afiliado nueva eps regimen contributiv...\n",
       "3      1  pasado enero radique informe respectivos entes...\n",
       "4      1  denuncia barrera administrativa eapb salud tot..."
      ]
     },
     "execution_count": 3,
     "metadata": {},
     "output_type": "execute_result"
    }
   ],
   "source": [
    "data = pd.read_csv('../'+general_path.PROCESSED_DATA_PATH + 'processed_data.csv')\n",
    "data.head()"
   ]
  },
  {
   "cell_type": "code",
   "execution_count": 4,
   "metadata": {},
   "outputs": [
    {
     "name": "stdout",
     "output_type": "stream",
     "text": [
      "<class 'pandas.core.frame.DataFrame'>\n",
      "RangeIndex: 28817 entries, 0 to 28816\n",
      "Data columns (total 2 columns):\n",
      " #   Column  Non-Null Count  Dtype \n",
      "---  ------  --------------  ----- \n",
      " 0   label   28817 non-null  int64 \n",
      " 1   text    28814 non-null  object\n",
      "dtypes: int64(1), object(1)\n",
      "memory usage: 450.4+ KB\n"
     ]
    }
   ],
   "source": [
    "data.info()"
   ]
  },
  {
   "cell_type": "code",
   "execution_count": 5,
   "metadata": {},
   "outputs": [
    {
     "name": "stdout",
     "output_type": "stream",
     "text": [
      "Elementos existentes: 28817\n",
      "Elementos restantes: 28814\n",
      "<class 'pandas.core.frame.DataFrame'>\n",
      "RangeIndex: 28814 entries, 0 to 28813\n",
      "Data columns (total 2 columns):\n",
      " #   Column  Non-Null Count  Dtype \n",
      "---  ------  --------------  ----- \n",
      " 0   label   28814 non-null  int64 \n",
      " 1   text    28814 non-null  object\n",
      "dtypes: int64(1), object(1)\n",
      "memory usage: 450.3+ KB\n"
     ]
    }
   ],
   "source": [
    "data = helpers.df_preprocess(data)\n",
    "data.info()"
   ]
  },
  {
   "cell_type": "code",
   "execution_count": 6,
   "metadata": {},
   "outputs": [],
   "source": [
    "X_train, X_test, y_train, y_test = train_test_split(\n",
    "    data['text'], data['label'],\n",
    "    test_size = 0.2,\n",
    "    random_state = 42,\n",
    "    stratify = data['label'])"
   ]
  },
  {
   "cell_type": "code",
   "execution_count": 7,
   "metadata": {},
   "outputs": [
    {
     "name": "stdout",
     "output_type": "stream",
     "text": [
      "Tamaño X_train: (23051,)\n",
      "Tamaño X_test: (5763,)\n",
      "Tamaño y_train: (23051,)\n",
      "Tamaño y_test: (5763,)\n"
     ]
    }
   ],
   "source": [
    "print(f'Tamaño X_train: {X_train.shape}')\n",
    "print(f'Tamaño X_test: {X_test.shape}')\n",
    "print(f'Tamaño y_train: {y_train.shape}')\n",
    "print(f'Tamaño y_test: {y_test.shape}')"
   ]
  },
  {
   "cell_type": "code",
   "execution_count": 8,
   "metadata": {},
   "outputs": [
    {
     "name": "stdout",
     "output_type": "stream",
     "text": [
      "Objeto cargado desde: ../src/objects/\n",
      "Objeto cargado desde: ../src/objects/\n"
     ]
    }
   ],
   "source": [
    "tfidf_vectorizer = helpers.get_object('../'+general_path.OBJECTS_PATH,'tfidf_vectorizer.pkl')\n",
    "bow = helpers.get_object('../'+general_path.OBJECTS_PATH,'count_vectorizer.pkl')"
   ]
  },
  {
   "cell_type": "code",
   "execution_count": 9,
   "metadata": {},
   "outputs": [],
   "source": [
    "X_train_tfidf = tfidf_vectorizer.transform(X_train)\n",
    "X_test_tfidf = tfidf_vectorizer.transform(X_test)\n",
    "\n",
    "X_train_bow = bow.transform(X_train)\n",
    "X_test_bow = bow.transform(X_test)"
   ]
  },
  {
   "cell_type": "markdown",
   "metadata": {
    "id": "F2l1igNHm3dv"
   },
   "source": [
    "# Modelamiento"
   ]
  },
  {
   "cell_type": "code",
   "execution_count": 10,
   "metadata": {
    "executionInfo": {
     "elapsed": 530,
     "status": "ok",
     "timestamp": 1720271625239,
     "user": {
      "displayName": "Diego Lizarazo Jimenez",
      "userId": "15298860470240790145"
     },
     "user_tz": 300
    },
    "id": "qK1nncoDm3dv"
   },
   "outputs": [],
   "source": [
    "from sklearn.linear_model import LogisticRegression\n",
    "from sklearn.neighbors import KNeighborsClassifier\n",
    "from sklearn.tree import DecisionTreeClassifier\n",
    "from sklearn.ensemble import RandomForestClassifier\n",
    "from sklearn.svm import SVC\n",
    "from sklearn.naive_bayes import GaussianNB\n",
    "from sklearn.neural_network import MLPClassifier\n",
    "\n",
    "from sklearn.model_selection import GridSearchCV\n",
    "\n",
    "from sklearn.metrics import accuracy_score, precision_score, recall_score, f1_score, roc_auc_score, make_scorer\n",
    "\n",
    "from xgboost import XGBClassifier"
   ]
  },
  {
   "cell_type": "code",
   "execution_count": 11,
   "metadata": {
    "executionInfo": {
     "elapsed": 5,
     "status": "ok",
     "timestamp": 1720271625239,
     "user": {
      "displayName": "Diego Lizarazo Jimenez",
      "userId": "15298860470240790145"
     },
     "user_tz": 300
    },
    "id": "rlFIv2zVt-Lj"
   },
   "outputs": [],
   "source": [
    "def apply_grid_search_model(model_name, models_dict, models_result, X, y, X_test, y_test, scoring, value_metric):\n",
    "    for model_key, model_value in models_dict.items():\n",
    "      if model_key == model_name:\n",
    "        grid_search = GridSearchCV(\n",
    "            estimator=model_value[0],\n",
    "            param_grid=model_value[1],\n",
    "            # cv=3,\n",
    "            scoring=scoring,\n",
    "            refit='f1')\n",
    "\n",
    "        grid_search.fit(X, y)\n",
    "\n",
    "        y_pred = grid_search.best_estimator_.predict(X_test)\n",
    "\n",
    "        models_result[model_key] = {\n",
    "            'train' : {\n",
    "                'accuracy' :  round(grid_search.cv_results_['mean_test_accuracy'][0],2),\n",
    "                'precision' :  round(grid_search.cv_results_['mean_test_precision'][0],2),\n",
    "                'recall' :  round(grid_search.cv_results_['mean_test_recall'][0],2),\n",
    "                'f1' :  round(grid_search.cv_results_['mean_test_f1'][0],2)\n",
    "            },\n",
    "\n",
    "            'test' :{\n",
    "                'accuracy' :  round(accuracy_score(y_test,y_pred),2),\n",
    "                'precision' :  round(precision_score(y_test,y_pred, average='weighted'),2),\n",
    "                'recall' :  round(recall_score(y_test,y_pred, average='weighted'),2),\n",
    "                'f1' :  round(f1_score(y_test,y_pred, average='weighted'),2)\n",
    "            }\n",
    "\n",
    "        }\n",
    "\n",
    "        models_dict[model_key] = [\n",
    "            grid_search.best_estimator_,\n",
    "            grid_search.best_params_\n",
    "        ]\n",
    "\n",
    "        model_name = f\"recall_{model_key}_train_{str(models_result[model_key]['train'][value_metric])}_test_{str(models_result[model_key]['test'][value_metric])}\"\n",
    "        joblib.dump(grid_search.best_estimator_, f'{'../'+general_path.MODELS_PATH}{model_name}.joblib')\n",
    "\n",
    "        helpers.save_log('../'+ general_path.LOGS_PATH + 'log.txt', model_name, grid_search.best_params_)\n",
    "\n",
    "\n",
    "    return models_dict, models_result"
   ]
  },
  {
   "cell_type": "code",
   "execution_count": 12,
   "metadata": {
    "executionInfo": {
     "elapsed": 5,
     "status": "ok",
     "timestamp": 1720271625239,
     "user": {
      "displayName": "Diego Lizarazo Jimenez",
      "userId": "15298860470240790145"
     },
     "user_tz": 300
    },
    "id": "2LveLHlzm3dw"
   },
   "outputs": [],
   "source": [
    "param_grid_clasificacion = {\n",
    "    'KNeighborsClassifier': {\n",
    "        'n_neighbors': [3, 5, 7]\n",
    "    },\n",
    "    'RandomForestClassifier': {\n",
    "        'n_estimators': [10, 50, 100]\n",
    "    },\n",
    "    'XGBClassifier': {\n",
    "        'n_estimators': [50]\n",
    "    }\n",
    "}\n",
    "\n",
    "param_grid_clasificacion = {\n",
    "    'KNeighborsClassifier': {\n",
    "        'n_neighbors': [3, 5, 7]\n",
    "    },\n",
    "    'RandomForestClassifier': {\n",
    "        'n_estimators': [10, 50, 100, 150]\n",
    "    },\n",
    "    'XGBClassifier': {\n",
    "        'n_estimators': [50, 60, 70, 80, 90, 100]\n",
    "    }\n",
    "}\n",
    "\n",
    "\n",
    "param_grid_clasificacion = {\n",
    "    'KNeighborsClassifier': {\n",
    "        'n_neighbors': [3, 5, 7, 9],\n",
    "        'weights': ['uniform', 'distance'],\n",
    "        'algorithm': ['auto', 'ball_tree', 'brute']\n",
    "    },\n",
    "    'DecisionTreeClassifier': {\n",
    "        'max_depth': [None, 5, 10, 20, 30],\n",
    "        'min_samples_split': [2, 5, 10],\n",
    "        'min_samples_leaf': [1, 2, 4]\n",
    "    },\n",
    "    'RandomForestClassifier': {\n",
    "        'n_estimators': [50, 100, 200],\n",
    "        'max_depth': [None, 10, 20, 30],\n",
    "        'min_samples_split': [2, 5, 10],\n",
    "    },\n",
    "    'SVC': {\n",
    "        'C': [0.1, 1, 10, 100],\n",
    "        'kernel': ['linear', 'poly', 'rbf', 'sigmoid'],\n",
    "        'gamma': ['scale', 'auto']\n",
    "    },\n",
    "    'GaussianNB': {\n",
    "        'var_smoothing': [1e-9, 1e-8, 1e-7]\n",
    "    },\n",
    "    'MLPClassifier': {\n",
    "        'hidden_layer_sizes': [(50,), (100,), (50, 50), (100, 100)],\n",
    "        'activation': ['logistic', 'tanh', 'relu'],\n",
    "        'solver': ['lbfgs', 'sgd', 'adam'],\n",
    "        'alpha': [0.0001, 0.001, 0.01],\n",
    "        'learning_rate': ['constant', 'invscaling', 'adaptive']\n",
    "    },\n",
    "    'XGBClassifier': {\n",
    "        'n_estimators': [50, 60, 70, 80, 90, 100],\n",
    "        'max_depth': [3, 6, 10],\n",
    "        'learning_rate': [0.01, 0.1, 0.2],\n",
    "        'subsample': [0.6, 0.8, 1.0],\n",
    "        'colsample_bytree': [0.6, 0.8, 1.0]\n",
    "    }\n",
    "}\n"
   ]
  },
  {
   "cell_type": "code",
   "execution_count": 13,
   "metadata": {
    "executionInfo": {
     "elapsed": 4,
     "status": "ok",
     "timestamp": 1720271625239,
     "user": {
      "displayName": "Diego Lizarazo Jimenez",
      "userId": "15298860470240790145"
     },
     "user_tz": 300
    },
    "id": "2Nrwkn10m3dw"
   },
   "outputs": [],
   "source": [
    "scoring = {\n",
    "    'accuracy': make_scorer(accuracy_score),\n",
    "    'precision': make_scorer(precision_score, average='weighted'),\n",
    "    'recall': make_scorer(recall_score, average='weighted'),\n",
    "    'f1': make_scorer(f1_score, average='weighted')\n",
    "}"
   ]
  },
  {
   "cell_type": "markdown",
   "metadata": {
    "id": "imMnB7Kdm3dw"
   },
   "source": [
    "# Entrenamiento"
   ]
  },
  {
   "cell_type": "markdown",
   "metadata": {
    "id": "vvPgc0P9m3dw"
   },
   "source": [
    "## TF-IDF"
   ]
  },
  {
   "cell_type": "code",
   "execution_count": 15,
   "metadata": {
    "executionInfo": {
     "elapsed": 5,
     "status": "ok",
     "timestamp": 1720271625240,
     "user": {
      "displayName": "Diego Lizarazo Jimenez",
      "userId": "15298860470240790145"
     },
     "user_tz": 300
    },
    "id": "kyMeYrncm3dz"
   },
   "outputs": [],
   "source": [
    "models_tfidf_clasificacion = {\n",
    "    'KNeighborsClassifier': [KNeighborsClassifier(), param_grid_clasificacion['KNeighborsClassifier']],\n",
    "    'RandomForestClassifier': [RandomForestClassifier(), param_grid_clasificacion['RandomForestClassifier']],\n",
    "    'XGBClassifier': [XGBClassifier(use_label_encoder=False, eval_metric='logloss'), param_grid_clasificacion['XGBClassifier']],\n",
    "    'DecisionTreeClassifier': [DecisionTreeClassifier(), param_grid_clasificacion['DecisionTreeClassifier']],\n",
    "    'SVC': [SVC(), param_grid_clasificacion['SVC']],\n",
    "    'GaussianNB': [GaussianNB(), param_grid_clasificacion['GaussianNB']],\n",
    "    'MLPClassifier': [MLPClassifier(), param_grid_clasificacion['MLPClassifier']],\n",
    "}"
   ]
  },
  {
   "cell_type": "code",
   "execution_count": 16,
   "metadata": {
    "executionInfo": {
     "elapsed": 5,
     "status": "ok",
     "timestamp": 1720271625240,
     "user": {
      "displayName": "Diego Lizarazo Jimenez",
      "userId": "15298860470240790145"
     },
     "user_tz": 300
    },
    "id": "fzlKhx0cm3d0"
   },
   "outputs": [],
   "source": [
    "tdidf_models_result = {}"
   ]
  },
  {
   "cell_type": "code",
   "execution_count": 17,
   "metadata": {
    "id": "hdM1TBJY3GXe"
   },
   "outputs": [
    {
     "name": "stderr",
     "output_type": "stream",
     "text": [
      "c:\\Users\\dalzoj\\Documents\\Freelancer\\TextClassificationProject\\env\\Lib\\site-packages\\sklearn\\metrics\\_classification.py:1531: UndefinedMetricWarning: Precision is ill-defined and being set to 0.0 in labels with no predicted samples. Use `zero_division` parameter to control this behavior.\n",
      "  _warn_prf(average, modifier, f\"{metric.capitalize()} is\", len(result))\n",
      "c:\\Users\\dalzoj\\Documents\\Freelancer\\TextClassificationProject\\env\\Lib\\site-packages\\sklearn\\metrics\\_classification.py:1531: UndefinedMetricWarning: Precision is ill-defined and being set to 0.0 in labels with no predicted samples. Use `zero_division` parameter to control this behavior.\n",
      "  _warn_prf(average, modifier, f\"{metric.capitalize()} is\", len(result))\n",
      "c:\\Users\\dalzoj\\Documents\\Freelancer\\TextClassificationProject\\env\\Lib\\site-packages\\sklearn\\metrics\\_classification.py:1531: UndefinedMetricWarning: Precision is ill-defined and being set to 0.0 in labels with no predicted samples. Use `zero_division` parameter to control this behavior.\n",
      "  _warn_prf(average, modifier, f\"{metric.capitalize()} is\", len(result))\n",
      "c:\\Users\\dalzoj\\Documents\\Freelancer\\TextClassificationProject\\env\\Lib\\site-packages\\sklearn\\metrics\\_classification.py:1531: UndefinedMetricWarning: Precision is ill-defined and being set to 0.0 in labels with no predicted samples. Use `zero_division` parameter to control this behavior.\n",
      "  _warn_prf(average, modifier, f\"{metric.capitalize()} is\", len(result))\n",
      "c:\\Users\\dalzoj\\Documents\\Freelancer\\TextClassificationProject\\env\\Lib\\site-packages\\sklearn\\metrics\\_classification.py:1531: UndefinedMetricWarning: Precision is ill-defined and being set to 0.0 in labels with no predicted samples. Use `zero_division` parameter to control this behavior.\n",
      "  _warn_prf(average, modifier, f\"{metric.capitalize()} is\", len(result))\n",
      "c:\\Users\\dalzoj\\Documents\\Freelancer\\TextClassificationProject\\env\\Lib\\site-packages\\sklearn\\metrics\\_classification.py:1531: UndefinedMetricWarning: Precision is ill-defined and being set to 0.0 in labels with no predicted samples. Use `zero_division` parameter to control this behavior.\n",
      "  _warn_prf(average, modifier, f\"{metric.capitalize()} is\", len(result))\n",
      "c:\\Users\\dalzoj\\Documents\\Freelancer\\TextClassificationProject\\env\\Lib\\site-packages\\sklearn\\metrics\\_classification.py:1531: UndefinedMetricWarning: Precision is ill-defined and being set to 0.0 in labels with no predicted samples. Use `zero_division` parameter to control this behavior.\n",
      "  _warn_prf(average, modifier, f\"{metric.capitalize()} is\", len(result))\n",
      "c:\\Users\\dalzoj\\Documents\\Freelancer\\TextClassificationProject\\env\\Lib\\site-packages\\sklearn\\metrics\\_classification.py:1531: UndefinedMetricWarning: Precision is ill-defined and being set to 0.0 in labels with no predicted samples. Use `zero_division` parameter to control this behavior.\n",
      "  _warn_prf(average, modifier, f\"{metric.capitalize()} is\", len(result))\n",
      "c:\\Users\\dalzoj\\Documents\\Freelancer\\TextClassificationProject\\env\\Lib\\site-packages\\sklearn\\metrics\\_classification.py:1531: UndefinedMetricWarning: Precision is ill-defined and being set to 0.0 in labels with no predicted samples. Use `zero_division` parameter to control this behavior.\n",
      "  _warn_prf(average, modifier, f\"{metric.capitalize()} is\", len(result))\n",
      "c:\\Users\\dalzoj\\Documents\\Freelancer\\TextClassificationProject\\env\\Lib\\site-packages\\sklearn\\metrics\\_classification.py:1531: UndefinedMetricWarning: Precision is ill-defined and being set to 0.0 in labels with no predicted samples. Use `zero_division` parameter to control this behavior.\n",
      "  _warn_prf(average, modifier, f\"{metric.capitalize()} is\", len(result))\n",
      "c:\\Users\\dalzoj\\Documents\\Freelancer\\TextClassificationProject\\env\\Lib\\site-packages\\sklearn\\metrics\\_classification.py:1531: UndefinedMetricWarning: Precision is ill-defined and being set to 0.0 in labels with no predicted samples. Use `zero_division` parameter to control this behavior.\n",
      "  _warn_prf(average, modifier, f\"{metric.capitalize()} is\", len(result))\n",
      "c:\\Users\\dalzoj\\Documents\\Freelancer\\TextClassificationProject\\env\\Lib\\site-packages\\sklearn\\metrics\\_classification.py:1531: UndefinedMetricWarning: Precision is ill-defined and being set to 0.0 in labels with no predicted samples. Use `zero_division` parameter to control this behavior.\n",
      "  _warn_prf(average, modifier, f\"{metric.capitalize()} is\", len(result))\n",
      "c:\\Users\\dalzoj\\Documents\\Freelancer\\TextClassificationProject\\env\\Lib\\site-packages\\sklearn\\metrics\\_classification.py:1531: UndefinedMetricWarning: Precision is ill-defined and being set to 0.0 in labels with no predicted samples. Use `zero_division` parameter to control this behavior.\n",
      "  _warn_prf(average, modifier, f\"{metric.capitalize()} is\", len(result))\n",
      "c:\\Users\\dalzoj\\Documents\\Freelancer\\TextClassificationProject\\env\\Lib\\site-packages\\sklearn\\metrics\\_classification.py:1531: UndefinedMetricWarning: Precision is ill-defined and being set to 0.0 in labels with no predicted samples. Use `zero_division` parameter to control this behavior.\n",
      "  _warn_prf(average, modifier, f\"{metric.capitalize()} is\", len(result))\n",
      "c:\\Users\\dalzoj\\Documents\\Freelancer\\TextClassificationProject\\env\\Lib\\site-packages\\sklearn\\metrics\\_classification.py:1531: UndefinedMetricWarning: Precision is ill-defined and being set to 0.0 in labels with no predicted samples. Use `zero_division` parameter to control this behavior.\n",
      "  _warn_prf(average, modifier, f\"{metric.capitalize()} is\", len(result))\n",
      "c:\\Users\\dalzoj\\Documents\\Freelancer\\TextClassificationProject\\env\\Lib\\site-packages\\sklearn\\metrics\\_classification.py:1531: UndefinedMetricWarning: Precision is ill-defined and being set to 0.0 in labels with no predicted samples. Use `zero_division` parameter to control this behavior.\n",
      "  _warn_prf(average, modifier, f\"{metric.capitalize()} is\", len(result))\n",
      "c:\\Users\\dalzoj\\Documents\\Freelancer\\TextClassificationProject\\env\\Lib\\site-packages\\sklearn\\metrics\\_classification.py:1531: UndefinedMetricWarning: Precision is ill-defined and being set to 0.0 in labels with no predicted samples. Use `zero_division` parameter to control this behavior.\n",
      "  _warn_prf(average, modifier, f\"{metric.capitalize()} is\", len(result))\n",
      "c:\\Users\\dalzoj\\Documents\\Freelancer\\TextClassificationProject\\env\\Lib\\site-packages\\sklearn\\metrics\\_classification.py:1531: UndefinedMetricWarning: Precision is ill-defined and being set to 0.0 in labels with no predicted samples. Use `zero_division` parameter to control this behavior.\n",
      "  _warn_prf(average, modifier, f\"{metric.capitalize()} is\", len(result))\n",
      "c:\\Users\\dalzoj\\Documents\\Freelancer\\TextClassificationProject\\env\\Lib\\site-packages\\sklearn\\metrics\\_classification.py:1531: UndefinedMetricWarning: Precision is ill-defined and being set to 0.0 in labels with no predicted samples. Use `zero_division` parameter to control this behavior.\n",
      "  _warn_prf(average, modifier, f\"{metric.capitalize()} is\", len(result))\n",
      "c:\\Users\\dalzoj\\Documents\\Freelancer\\TextClassificationProject\\env\\Lib\\site-packages\\sklearn\\metrics\\_classification.py:1531: UndefinedMetricWarning: Precision is ill-defined and being set to 0.0 in labels with no predicted samples. Use `zero_division` parameter to control this behavior.\n",
      "  _warn_prf(average, modifier, f\"{metric.capitalize()} is\", len(result))\n",
      "c:\\Users\\dalzoj\\Documents\\Freelancer\\TextClassificationProject\\env\\Lib\\site-packages\\sklearn\\metrics\\_classification.py:1531: UndefinedMetricWarning: Precision is ill-defined and being set to 0.0 in labels with no predicted samples. Use `zero_division` parameter to control this behavior.\n",
      "  _warn_prf(average, modifier, f\"{metric.capitalize()} is\", len(result))\n",
      "c:\\Users\\dalzoj\\Documents\\Freelancer\\TextClassificationProject\\env\\Lib\\site-packages\\sklearn\\metrics\\_classification.py:1531: UndefinedMetricWarning: Precision is ill-defined and being set to 0.0 in labels with no predicted samples. Use `zero_division` parameter to control this behavior.\n",
      "  _warn_prf(average, modifier, f\"{metric.capitalize()} is\", len(result))\n",
      "c:\\Users\\dalzoj\\Documents\\Freelancer\\TextClassificationProject\\env\\Lib\\site-packages\\sklearn\\metrics\\_classification.py:1531: UndefinedMetricWarning: Precision is ill-defined and being set to 0.0 in labels with no predicted samples. Use `zero_division` parameter to control this behavior.\n",
      "  _warn_prf(average, modifier, f\"{metric.capitalize()} is\", len(result))\n",
      "c:\\Users\\dalzoj\\Documents\\Freelancer\\TextClassificationProject\\env\\Lib\\site-packages\\sklearn\\metrics\\_classification.py:1531: UndefinedMetricWarning: Precision is ill-defined and being set to 0.0 in labels with no predicted samples. Use `zero_division` parameter to control this behavior.\n",
      "  _warn_prf(average, modifier, f\"{metric.capitalize()} is\", len(result))\n",
      "c:\\Users\\dalzoj\\Documents\\Freelancer\\TextClassificationProject\\env\\Lib\\site-packages\\sklearn\\metrics\\_classification.py:1531: UndefinedMetricWarning: Precision is ill-defined and being set to 0.0 in labels with no predicted samples. Use `zero_division` parameter to control this behavior.\n",
      "  _warn_prf(average, modifier, f\"{metric.capitalize()} is\", len(result))\n",
      "c:\\Users\\dalzoj\\Documents\\Freelancer\\TextClassificationProject\\env\\Lib\\site-packages\\sklearn\\metrics\\_classification.py:1531: UndefinedMetricWarning: Precision is ill-defined and being set to 0.0 in labels with no predicted samples. Use `zero_division` parameter to control this behavior.\n",
      "  _warn_prf(average, modifier, f\"{metric.capitalize()} is\", len(result))\n",
      "c:\\Users\\dalzoj\\Documents\\Freelancer\\TextClassificationProject\\env\\Lib\\site-packages\\sklearn\\metrics\\_classification.py:1531: UndefinedMetricWarning: Precision is ill-defined and being set to 0.0 in labels with no predicted samples. Use `zero_division` parameter to control this behavior.\n",
      "  _warn_prf(average, modifier, f\"{metric.capitalize()} is\", len(result))\n",
      "c:\\Users\\dalzoj\\Documents\\Freelancer\\TextClassificationProject\\env\\Lib\\site-packages\\sklearn\\metrics\\_classification.py:1531: UndefinedMetricWarning: Precision is ill-defined and being set to 0.0 in labels with no predicted samples. Use `zero_division` parameter to control this behavior.\n",
      "  _warn_prf(average, modifier, f\"{metric.capitalize()} is\", len(result))\n",
      "c:\\Users\\dalzoj\\Documents\\Freelancer\\TextClassificationProject\\env\\Lib\\site-packages\\sklearn\\metrics\\_classification.py:1531: UndefinedMetricWarning: Precision is ill-defined and being set to 0.0 in labels with no predicted samples. Use `zero_division` parameter to control this behavior.\n",
      "  _warn_prf(average, modifier, f\"{metric.capitalize()} is\", len(result))\n",
      "c:\\Users\\dalzoj\\Documents\\Freelancer\\TextClassificationProject\\env\\Lib\\site-packages\\sklearn\\metrics\\_classification.py:1531: UndefinedMetricWarning: Precision is ill-defined and being set to 0.0 in labels with no predicted samples. Use `zero_division` parameter to control this behavior.\n",
      "  _warn_prf(average, modifier, f\"{metric.capitalize()} is\", len(result))\n",
      "c:\\Users\\dalzoj\\Documents\\Freelancer\\TextClassificationProject\\env\\Lib\\site-packages\\sklearn\\metrics\\_classification.py:1531: UndefinedMetricWarning: Precision is ill-defined and being set to 0.0 in labels with no predicted samples. Use `zero_division` parameter to control this behavior.\n",
      "  _warn_prf(average, modifier, f\"{metric.capitalize()} is\", len(result))\n",
      "c:\\Users\\dalzoj\\Documents\\Freelancer\\TextClassificationProject\\env\\Lib\\site-packages\\sklearn\\metrics\\_classification.py:1531: UndefinedMetricWarning: Precision is ill-defined and being set to 0.0 in labels with no predicted samples. Use `zero_division` parameter to control this behavior.\n",
      "  _warn_prf(average, modifier, f\"{metric.capitalize()} is\", len(result))\n",
      "c:\\Users\\dalzoj\\Documents\\Freelancer\\TextClassificationProject\\env\\Lib\\site-packages\\sklearn\\metrics\\_classification.py:1531: UndefinedMetricWarning: Precision is ill-defined and being set to 0.0 in labels with no predicted samples. Use `zero_division` parameter to control this behavior.\n",
      "  _warn_prf(average, modifier, f\"{metric.capitalize()} is\", len(result))\n",
      "c:\\Users\\dalzoj\\Documents\\Freelancer\\TextClassificationProject\\env\\Lib\\site-packages\\sklearn\\metrics\\_classification.py:1531: UndefinedMetricWarning: Precision is ill-defined and being set to 0.0 in labels with no predicted samples. Use `zero_division` parameter to control this behavior.\n",
      "  _warn_prf(average, modifier, f\"{metric.capitalize()} is\", len(result))\n",
      "c:\\Users\\dalzoj\\Documents\\Freelancer\\TextClassificationProject\\env\\Lib\\site-packages\\sklearn\\metrics\\_classification.py:1531: UndefinedMetricWarning: Precision is ill-defined and being set to 0.0 in labels with no predicted samples. Use `zero_division` parameter to control this behavior.\n",
      "  _warn_prf(average, modifier, f\"{metric.capitalize()} is\", len(result))\n",
      "c:\\Users\\dalzoj\\Documents\\Freelancer\\TextClassificationProject\\env\\Lib\\site-packages\\sklearn\\metrics\\_classification.py:1531: UndefinedMetricWarning: Precision is ill-defined and being set to 0.0 in labels with no predicted samples. Use `zero_division` parameter to control this behavior.\n",
      "  _warn_prf(average, modifier, f\"{metric.capitalize()} is\", len(result))\n",
      "c:\\Users\\dalzoj\\Documents\\Freelancer\\TextClassificationProject\\env\\Lib\\site-packages\\sklearn\\metrics\\_classification.py:1531: UndefinedMetricWarning: Precision is ill-defined and being set to 0.0 in labels with no predicted samples. Use `zero_division` parameter to control this behavior.\n",
      "  _warn_prf(average, modifier, f\"{metric.capitalize()} is\", len(result))\n",
      "c:\\Users\\dalzoj\\Documents\\Freelancer\\TextClassificationProject\\env\\Lib\\site-packages\\sklearn\\metrics\\_classification.py:1531: UndefinedMetricWarning: Precision is ill-defined and being set to 0.0 in labels with no predicted samples. Use `zero_division` parameter to control this behavior.\n",
      "  _warn_prf(average, modifier, f\"{metric.capitalize()} is\", len(result))\n",
      "c:\\Users\\dalzoj\\Documents\\Freelancer\\TextClassificationProject\\env\\Lib\\site-packages\\sklearn\\metrics\\_classification.py:1531: UndefinedMetricWarning: Precision is ill-defined and being set to 0.0 in labels with no predicted samples. Use `zero_division` parameter to control this behavior.\n",
      "  _warn_prf(average, modifier, f\"{metric.capitalize()} is\", len(result))\n",
      "c:\\Users\\dalzoj\\Documents\\Freelancer\\TextClassificationProject\\env\\Lib\\site-packages\\sklearn\\metrics\\_classification.py:1531: UndefinedMetricWarning: Precision is ill-defined and being set to 0.0 in labels with no predicted samples. Use `zero_division` parameter to control this behavior.\n",
      "  _warn_prf(average, modifier, f\"{metric.capitalize()} is\", len(result))\n",
      "c:\\Users\\dalzoj\\Documents\\Freelancer\\TextClassificationProject\\env\\Lib\\site-packages\\sklearn\\metrics\\_classification.py:1531: UndefinedMetricWarning: Precision is ill-defined and being set to 0.0 in labels with no predicted samples. Use `zero_division` parameter to control this behavior.\n",
      "  _warn_prf(average, modifier, f\"{metric.capitalize()} is\", len(result))\n",
      "c:\\Users\\dalzoj\\Documents\\Freelancer\\TextClassificationProject\\env\\Lib\\site-packages\\sklearn\\metrics\\_classification.py:1531: UndefinedMetricWarning: Precision is ill-defined and being set to 0.0 in labels with no predicted samples. Use `zero_division` parameter to control this behavior.\n",
      "  _warn_prf(average, modifier, f\"{metric.capitalize()} is\", len(result))\n",
      "c:\\Users\\dalzoj\\Documents\\Freelancer\\TextClassificationProject\\env\\Lib\\site-packages\\sklearn\\metrics\\_classification.py:1531: UndefinedMetricWarning: Precision is ill-defined and being set to 0.0 in labels with no predicted samples. Use `zero_division` parameter to control this behavior.\n",
      "  _warn_prf(average, modifier, f\"{metric.capitalize()} is\", len(result))\n",
      "c:\\Users\\dalzoj\\Documents\\Freelancer\\TextClassificationProject\\env\\Lib\\site-packages\\sklearn\\metrics\\_classification.py:1531: UndefinedMetricWarning: Precision is ill-defined and being set to 0.0 in labels with no predicted samples. Use `zero_division` parameter to control this behavior.\n",
      "  _warn_prf(average, modifier, f\"{metric.capitalize()} is\", len(result))\n",
      "c:\\Users\\dalzoj\\Documents\\Freelancer\\TextClassificationProject\\env\\Lib\\site-packages\\sklearn\\metrics\\_classification.py:1531: UndefinedMetricWarning: Precision is ill-defined and being set to 0.0 in labels with no predicted samples. Use `zero_division` parameter to control this behavior.\n",
      "  _warn_prf(average, modifier, f\"{metric.capitalize()} is\", len(result))\n",
      "c:\\Users\\dalzoj\\Documents\\Freelancer\\TextClassificationProject\\env\\Lib\\site-packages\\sklearn\\metrics\\_classification.py:1531: UndefinedMetricWarning: Precision is ill-defined and being set to 0.0 in labels with no predicted samples. Use `zero_division` parameter to control this behavior.\n",
      "  _warn_prf(average, modifier, f\"{metric.capitalize()} is\", len(result))\n",
      "c:\\Users\\dalzoj\\Documents\\Freelancer\\TextClassificationProject\\env\\Lib\\site-packages\\sklearn\\metrics\\_classification.py:1531: UndefinedMetricWarning: Precision is ill-defined and being set to 0.0 in labels with no predicted samples. Use `zero_division` parameter to control this behavior.\n",
      "  _warn_prf(average, modifier, f\"{metric.capitalize()} is\", len(result))\n",
      "c:\\Users\\dalzoj\\Documents\\Freelancer\\TextClassificationProject\\env\\Lib\\site-packages\\sklearn\\metrics\\_classification.py:1531: UndefinedMetricWarning: Precision is ill-defined and being set to 0.0 in labels with no predicted samples. Use `zero_division` parameter to control this behavior.\n",
      "  _warn_prf(average, modifier, f\"{metric.capitalize()} is\", len(result))\n",
      "c:\\Users\\dalzoj\\Documents\\Freelancer\\TextClassificationProject\\env\\Lib\\site-packages\\sklearn\\metrics\\_classification.py:1531: UndefinedMetricWarning: Precision is ill-defined and being set to 0.0 in labels with no predicted samples. Use `zero_division` parameter to control this behavior.\n",
      "  _warn_prf(average, modifier, f\"{metric.capitalize()} is\", len(result))\n",
      "c:\\Users\\dalzoj\\Documents\\Freelancer\\TextClassificationProject\\env\\Lib\\site-packages\\sklearn\\metrics\\_classification.py:1531: UndefinedMetricWarning: Precision is ill-defined and being set to 0.0 in labels with no predicted samples. Use `zero_division` parameter to control this behavior.\n",
      "  _warn_prf(average, modifier, f\"{metric.capitalize()} is\", len(result))\n",
      "c:\\Users\\dalzoj\\Documents\\Freelancer\\TextClassificationProject\\env\\Lib\\site-packages\\sklearn\\metrics\\_classification.py:1531: UndefinedMetricWarning: Precision is ill-defined and being set to 0.0 in labels with no predicted samples. Use `zero_division` parameter to control this behavior.\n",
      "  _warn_prf(average, modifier, f\"{metric.capitalize()} is\", len(result))\n",
      "c:\\Users\\dalzoj\\Documents\\Freelancer\\TextClassificationProject\\env\\Lib\\site-packages\\sklearn\\metrics\\_classification.py:1531: UndefinedMetricWarning: Precision is ill-defined and being set to 0.0 in labels with no predicted samples. Use `zero_division` parameter to control this behavior.\n",
      "  _warn_prf(average, modifier, f\"{metric.capitalize()} is\", len(result))\n",
      "c:\\Users\\dalzoj\\Documents\\Freelancer\\TextClassificationProject\\env\\Lib\\site-packages\\sklearn\\metrics\\_classification.py:1531: UndefinedMetricWarning: Precision is ill-defined and being set to 0.0 in labels with no predicted samples. Use `zero_division` parameter to control this behavior.\n",
      "  _warn_prf(average, modifier, f\"{metric.capitalize()} is\", len(result))\n",
      "c:\\Users\\dalzoj\\Documents\\Freelancer\\TextClassificationProject\\env\\Lib\\site-packages\\sklearn\\metrics\\_classification.py:1531: UndefinedMetricWarning: Precision is ill-defined and being set to 0.0 in labels with no predicted samples. Use `zero_division` parameter to control this behavior.\n",
      "  _warn_prf(average, modifier, f\"{metric.capitalize()} is\", len(result))\n",
      "c:\\Users\\dalzoj\\Documents\\Freelancer\\TextClassificationProject\\env\\Lib\\site-packages\\sklearn\\metrics\\_classification.py:1531: UndefinedMetricWarning: Precision is ill-defined and being set to 0.0 in labels with no predicted samples. Use `zero_division` parameter to control this behavior.\n",
      "  _warn_prf(average, modifier, f\"{metric.capitalize()} is\", len(result))\n",
      "c:\\Users\\dalzoj\\Documents\\Freelancer\\TextClassificationProject\\env\\Lib\\site-packages\\sklearn\\metrics\\_classification.py:1531: UndefinedMetricWarning: Precision is ill-defined and being set to 0.0 in labels with no predicted samples. Use `zero_division` parameter to control this behavior.\n",
      "  _warn_prf(average, modifier, f\"{metric.capitalize()} is\", len(result))\n",
      "c:\\Users\\dalzoj\\Documents\\Freelancer\\TextClassificationProject\\env\\Lib\\site-packages\\sklearn\\metrics\\_classification.py:1531: UndefinedMetricWarning: Precision is ill-defined and being set to 0.0 in labels with no predicted samples. Use `zero_division` parameter to control this behavior.\n",
      "  _warn_prf(average, modifier, f\"{metric.capitalize()} is\", len(result))\n",
      "c:\\Users\\dalzoj\\Documents\\Freelancer\\TextClassificationProject\\env\\Lib\\site-packages\\sklearn\\metrics\\_classification.py:1531: UndefinedMetricWarning: Precision is ill-defined and being set to 0.0 in labels with no predicted samples. Use `zero_division` parameter to control this behavior.\n",
      "  _warn_prf(average, modifier, f\"{metric.capitalize()} is\", len(result))\n",
      "c:\\Users\\dalzoj\\Documents\\Freelancer\\TextClassificationProject\\env\\Lib\\site-packages\\sklearn\\metrics\\_classification.py:1531: UndefinedMetricWarning: Precision is ill-defined and being set to 0.0 in labels with no predicted samples. Use `zero_division` parameter to control this behavior.\n",
      "  _warn_prf(average, modifier, f\"{metric.capitalize()} is\", len(result))\n",
      "c:\\Users\\dalzoj\\Documents\\Freelancer\\TextClassificationProject\\env\\Lib\\site-packages\\sklearn\\metrics\\_classification.py:1531: UndefinedMetricWarning: Precision is ill-defined and being set to 0.0 in labels with no predicted samples. Use `zero_division` parameter to control this behavior.\n",
      "  _warn_prf(average, modifier, f\"{metric.capitalize()} is\", len(result))\n"
     ]
    },
    {
     "name": "stdout",
     "output_type": "stream",
     "text": [
      "{'SVC': {'test': {'accuracy': 0.7,\n",
      "                  'f1': np.float64(0.7),\n",
      "                  'precision': np.float64(0.7),\n",
      "                  'recall': np.float64(0.7)},\n",
      "         'train': {'accuracy': np.float64(0.65),\n",
      "                   'f1': np.float64(0.64),\n",
      "                   'precision': np.float64(0.68),\n",
      "                   'recall': np.float64(0.65)}}}\n"
     ]
    }
   ],
   "source": [
    "models_tfidf_clasificacion, tdidf_models_result = apply_grid_search_model(\n",
    "    'SVC',\n",
    "    models_tfidf_clasificacion,\n",
    "    tdidf_models_result,\n",
    "    X_train_tfidf,\n",
    "    y_train,\n",
    "    X_test_tfidf,\n",
    "    y_test,\n",
    "    scoring,\n",
    "    'recall')\n",
    "\n",
    "pp.pprint(tdidf_models_result)"
   ]
  },
  {
   "cell_type": "code",
   "execution_count": null,
   "metadata": {
    "colab": {
     "background_save": true
    },
    "id": "uabEvI4em3d0"
   },
   "outputs": [],
   "source": [
    "def get_models_models_weights(models_results, dataset, metric):\n",
    "    score_sum = sum(value[dataset][metric] for value in models_results.values())\n",
    "    models_weights = {key: round((value[dataset][metric] / score_sum) * 100,2) for key, value in models_results.items()}\n",
    "    return models_weights"
   ]
  },
  {
   "cell_type": "code",
   "execution_count": null,
   "metadata": {
    "colab": {
     "background_save": true
    },
    "id": "6gV9nRLSm3d1"
   },
   "outputs": [],
   "source": [
    "def get_weighted_prediction(models_result, models, dataset, metric, X_test):\n",
    "\n",
    "    models_weights = get_models_models_weights(models_result, dataset, metric)\n",
    "\n",
    "    y_pred = []\n",
    "\n",
    "    for pos in range (0, X_test.shape[0]):\n",
    "\n",
    "        weighted_prediction = defaultdict(float)\n",
    "\n",
    "        for key, (model, scores) in models.items():\n",
    "\n",
    "            prediccion = model.predict(X_test[pos])[0]\n",
    "            weighted_prediction[prediccion] += models_weights[key]\n",
    "\n",
    "        final_label = max(weighted_prediction, key=weighted_prediction.get)\n",
    "\n",
    "        y_pred.append(final_label)\n",
    "\n",
    "    return np.array(y_pred)"
   ]
  },
  {
   "cell_type": "code",
   "execution_count": null,
   "metadata": {
    "colab": {
     "background_save": true
    },
    "id": "NVBDN5yMm3d1",
    "outputId": "1587da85-d235-42f1-e789-67be65f28d84"
   },
   "outputs": [],
   "source": [
    "# y_weighteds_predictions = get_weighted_prediction(tdidf_models_result, models_tfidf_clasificacion, 'test', 'f1', X_test_tfidf)\n",
    "# print(y_weighteds_predictions.shape)"
   ]
  },
  {
   "cell_type": "code",
   "execution_count": null,
   "metadata": {
    "colab": {
     "background_save": true
    },
    "id": "cW2y4SeFm3d2",
    "outputId": "3d040659-cc4e-4472-a48e-7d9c5264b0d6"
   },
   "outputs": [],
   "source": [
    "# f1_value = f1_score(y_true = y_encoder_test, y_pred = y_weighteds_predictions, average='weighted')\n",
    "# print(round(f1_value,2))"
   ]
  }
 ],
 "metadata": {
  "colab": {
   "provenance": []
  },
  "kernelspec": {
   "display_name": "Python 3 (ipykernel)",
   "language": "python",
   "name": "python3"
  },
  "language_info": {
   "codemirror_mode": {
    "name": "ipython",
    "version": 3
   },
   "file_extension": ".py",
   "mimetype": "text/x-python",
   "name": "python",
   "nbconvert_exporter": "python",
   "pygments_lexer": "ipython3",
   "version": "3.12.2"
  },
  "save_output": true
 },
 "nbformat": 4,
 "nbformat_minor": 4
}
